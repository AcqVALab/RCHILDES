{
  "nbformat": 4,
  "nbformat_minor": 0,
  "metadata": {
    "anaconda-cloud": "",
    "kernelspec": {
      "display_name": "R",
      "langauge": "R",
      "name": "ir"
    },
    "language_info": {
      "codemirror_mode": "r",
      "file_extension": ".r",
      "mimetype": "text/x-r-source",
      "name": "R",
      "pygments_lexer": "r",
      "version": "3.4.1"
    },
    "colab": {
      "name": "childes_codebook.ipynb",
      "provenance": []
    }
  },
  "cells": [
    {
      "cell_type": "markdown",
      "metadata": {
        "id": "zj9GH1FLj597"
      },
      "source": [
        "![aqcva](https://slcladal.github.io/images/acqva.jpg)\n",
        "\n",
        "# Preparation\n",
        "\n",
        "In a first step, we prepare the session by setting options and installing packages."
      ]
    },
    {
      "cell_type": "code",
      "metadata": {
        "id": "6_dRKT7aj5-B"
      },
      "source": [
        "# set options\n",
        "options(stringsAsFactors = F)          # no automatic data transformation\n",
        "options(\"scipen\" = 100, \"digits\" = 12) # suppress math annotation\n",
        "options(max.print=1000)                # show maximally 1000 elements in the output\n",
        "# install packages\n",
        "install.packages(c(\"tidyverse\"))"
      ],
      "execution_count": null,
      "outputs": []
    },
    {
      "cell_type": "markdown",
      "metadata": {
        "id": "N0RopMU1j5-E"
      },
      "source": [
        "In a next step, we activate the packages that we have installed.\n",
        "\n"
      ]
    },
    {
      "cell_type": "code",
      "metadata": {
        "id": "xYYntf0sj5-G"
      },
      "source": [
        "library(tidyverse)"
      ],
      "execution_count": null,
      "outputs": []
    },
    {
      "cell_type": "markdown",
      "metadata": {
        "id": "EikPB_wFj5-G"
      },
      "source": [
        "Before we continue, it is important to think about what we want to do!\n",
        "\n",
        "In this workshop, we want to load the CHILDES data and convert the data into a format that we can then use to extract information from it. Optimally, the data should have the following format once we have processed the data:\n"
      ]
    },
    {
      "cell_type": "code",
      "metadata": {
        "id": "L-FYR_YIj5-H"
      },
      "source": [
        "id <- data.frame(1:6)\n",
        "id <- id %>%\n",
        "  dplyr::rename(\"id\" = colnames(id)[1]) %>%\n",
        "  dplyr::mutate(file = c(\"aab\", \"aab\", \"aab\", \"aab\", \"aab\", \"aab\"),\n",
        "                childage = c(\"4;6\", \"4;6\", \"4;6\", \"4;6\", \"4;6\", \"4;6\"),\n",
        "                child = c(\"ben\", \"ben\", \"ben\", \"ben\", \"ben\", \"ben\"),\n",
        "                speaker = c(\"MOT\", \"MOT\", \"ben\", \"MOT\", \"ben\", \"MOT\"),\n",
        "                utterance = c(\"How are you ?\", \"Ben ?\", \"Okay\", \"Are you hungry ?\", \"No\", \"Sure ?\"),\n",
        "                tagged = c(\"How|WH are|BE you|PN ?|PC\", \"Ben|NNP ?|PC\", \"Okay|RB\", \"Are|BE you|PN hungry|JJ ?|PC\", \"No|NG\", \"Sure|RB ?|PC\"),\n",
        "                comment = c(\"\", \"\", \"\", \"\", \"shakes head\", \"\"))\n",
        "# inspect data\n",
        "id"
      ],
      "execution_count": null,
      "outputs": []
    },
    {
      "cell_type": "markdown",
      "metadata": {
        "id": "OHry92-hj5-I"
      },
      "source": [
        "So we want to have the data in a tabular format and in this table, each utterance is in a separate line and each line should also contain information about the speaker and the file.\n",
        "\n",
        "\n",
        "# Case studies\n",
        "\n",
        "Now that we have the data in a format that we can use, we can use this table to perform searches.\n",
        "\n",
        "In case the above processing has not worked for you, simply visit `https://github.com/AcqVALab/RCHILDES/` and download the file manually. If you store that file in your `data` folder, you can load it by executing the code chunk below.\n"
      ]
    },
    {
      "cell_type": "code",
      "metadata": {
        "id": "fUEiz6KWj5-K"
      },
      "source": [
        "childes <- base::readRDS(url(\"https://slcladal.github.io/data/childes.rda\", \"rb\"))\n",
        "# inspect data\n",
        "childes[1:3, 1:4]"
      ],
      "execution_count": null,
      "outputs": []
    },
    {
      "cell_type": "markdown",
      "metadata": {
        "id": "HjiFVZQbj5-L"
      },
      "source": [
        "## Example 1: Extract uses of the word \"No\" by children \n",
        "\n",
        "To extract all instances of a single word, in this example the word *no*, that are uttered by a specific interlocutor we filter by speaker and define that we only want rows where the speaker is equal to `CHI` (target child).\n"
      ]
    },
    {
      "cell_type": "code",
      "metadata": {
        "id": "foBohNb2j5-N"
      },
      "source": [
        "no <- childes %>%\n",
        "  dplyr::filter(speaker == \"CHI\") %>%\n",
        "  dplyr::filter(stringr::str_detect(utterance, \"\\\\b[Nn][Oo]\\\\b\"))"
      ],
      "execution_count": null,
      "outputs": []
    },
    {
      "cell_type": "markdown",
      "metadata": {
        "id": "4CUXMRCPj5-N"
      },
      "source": [
        "\n",
        "\n"
      ]
    },
    {
      "cell_type": "code",
      "metadata": {
        "id": "jE5ZJQJ6j5-O"
      },
      "source": [
        "# inspect data\n",
        "head(no)"
      ],
      "execution_count": null,
      "outputs": []
    },
    {
      "cell_type": "markdown",
      "metadata": {
        "id": "TWdOCZENj5-O"
      },
      "source": [
        "We summarize the results in a table. \n",
        "\n"
      ]
    },
    {
      "cell_type": "code",
      "metadata": {
        "id": "6MX0G71Wj5-P"
      },
      "source": [
        "no_no <- no %>%\n",
        "  dplyr::group_by(files, gender_targetchild, age_years_targetchild) %>%\n",
        "  dplyr::summarise(nos = nrow(.))\n",
        "head(no_no)"
      ],
      "execution_count": null,
      "outputs": []
    },
    {
      "cell_type": "markdown",
      "metadata": {
        "id": "wAIqy0lCj5-Q"
      },
      "source": [
        "We can also extract the number of words uttered by children to check if the use of *no* shows a relative increase or decrease over time.\n",
        "\n"
      ]
    },
    {
      "cell_type": "code",
      "metadata": {
        "id": "Dg6w_CcGj5-Q"
      },
      "source": [
        "no_words <- childes %>%\n",
        "  dplyr::filter(speaker == \"CHI\") %>%\n",
        "  dplyr::group_by(files, gender_targetchild, age_years_targetchild) %>%\n",
        "  dplyr::mutate(nos = stringr::str_detect(utterance, \"\\\\b[Nn][Oo]\\\\b\")) %>%\n",
        "  dplyr::summarise(nos = sum(nos),\n",
        "                   words = sum(words)) %>%\n",
        "  # add relative frequency\n",
        "  dplyr::mutate(freq = round(nos/words*1000, 3))\n",
        "# inspect data\n",
        "head(no_words)"
      ],
      "execution_count": null,
      "outputs": []
    },
    {
      "cell_type": "markdown",
      "metadata": {
        "id": "g8pbnYI9j5-R"
      },
      "source": [
        "We can also visualize the trends using the `ggplot` function . To learn how to visualize data in R see [this tutorial](https://slcladal.github.io/dviz.html).\n",
        "\n"
      ]
    },
    {
      "cell_type": "code",
      "metadata": {
        "id": "PsqpPPowj5-S"
      },
      "source": [
        "no_words %>%\n",
        "  dplyr::mutate(age_years_targetchild = as.numeric(age_years_targetchild)) %>%\n",
        "  ggplot(aes(x = age_years_targetchild, y = freq)) +\n",
        "  geom_smooth() +\n",
        "  theme_bw() +\n",
        "  labs(x = \"Age of target child\", y = \"Relative frequency of NOs \\n (per 1,000 words)\")"
      ],
      "execution_count": null,
      "outputs": []
    },
    {
      "cell_type": "markdown",
      "metadata": {
        "id": "9mfTNMX8j5-S"
      },
      "source": [
        "## Example 2: Extracting all questions by mothers\n",
        "\n",
        "Here, we want to extract all questions uttered by mothers. We operationalize questions as utterances containing a question mark.\n"
      ]
    },
    {
      "cell_type": "code",
      "metadata": {
        "id": "OIBMpKONj5-T"
      },
      "source": [
        "questions <- childes %>%\n",
        "  dplyr::filter(speaker == \"MOT\") %>%\n",
        "  dplyr::filter(stringr::str_detect(utterance, \"\\\\?\"))\n",
        "# inspect data\n",
        "head(questions)"
      ],
      "execution_count": null,
      "outputs": []
    },
    {
      "cell_type": "markdown",
      "metadata": {
        "id": "RV8PHVeQj5-T"
      },
      "source": [
        "We could now check if the rate of questions changes over time.\n",
        "\n"
      ]
    },
    {
      "cell_type": "code",
      "metadata": {
        "id": "E4eY04swj5-U"
      },
      "source": [
        "qmot <- childes %>%\n",
        "  dplyr::filter(speaker == \"MOT\") %>%\n",
        "  dplyr::mutate(questions = ifelse(stringr::str_detect(utterance, \"\\\\?\") == T, 1,0),\n",
        "                utterances = 1) %>%\n",
        "  dplyr::group_by(age_years_targetchild) %>%\n",
        "  dplyr::summarise(utterances = sum(utterances),\n",
        "                questions = sum(questions),\n",
        "                percent = round(questions/utterances*100, 2))\n",
        "# inspect data\n",
        "head(qmot)"
      ],
      "execution_count": null,
      "outputs": []
    },
    {
      "cell_type": "markdown",
      "metadata": {
        "id": "IeS8CZCwj5-U"
      },
      "source": [
        "\n"
      ]
    },
    {
      "cell_type": "code",
      "metadata": {
        "id": "we5Q9SlGj5-V"
      },
      "source": [
        "qmot %>%\n",
        "  dplyr::mutate(age_years_targetchild = as.numeric(age_years_targetchild)) %>%\n",
        "  ggplot(aes(x = age_years_targetchild, y = percent)) +\n",
        "  geom_smooth() +\n",
        "  theme_bw() +\n",
        "  labs(x = \"Age of target child\", y = \"Percent \\n (questions)\")"
      ],
      "execution_count": null,
      "outputs": []
    },
    {
      "cell_type": "markdown",
      "metadata": {
        "id": "WZn6yZhlj5-V"
      },
      "source": [
        "## Example 3: Extracting aux + part by mothers \n",
        "\n",
        "Here we want to extract all occurrences of an auxiliary plus a participle (e.g. *is swimming*) produced by mothers.\n"
      ]
    },
    {
      "cell_type": "code",
      "metadata": {
        "id": "KPgHWioKj5-V"
      },
      "source": [
        "auxv <- childes %>%\n",
        "  dplyr::filter(speaker == \"MOT\") %>%\n",
        "  dplyr::filter(stringr::str_detect(postag, \"aux\\\\|\\\\S{1,} part\\\\|\"))\n",
        "# inspect data\n",
        "head(auxv)"
      ],
      "execution_count": null,
      "outputs": []
    },
    {
      "cell_type": "markdown",
      "metadata": {
        "id": "LnfGE_mkj5-V"
      },
      "source": [
        "We can now extract all the particle forms from the pos-tagged utterance\n",
        "\n"
      ]
    },
    {
      "cell_type": "code",
      "metadata": {
        "id": "zWH-b-aQj5-W"
      },
      "source": [
        "auxv_verbs <- auxv %>%\n",
        "  dplyr::mutate(participle = gsub(\".*part\\\\|(\\\\w{1,})-.*\", \"\\\\1\", postag)) %>%\n",
        "  dplyr::pull(participle)\n",
        "head(auxv_verbs)"
      ],
      "execution_count": null,
      "outputs": []
    },
    {
      "cell_type": "markdown",
      "metadata": {
        "id": "QEwtKtgFj5-W"
      },
      "source": [
        "\n"
      ]
    },
    {
      "cell_type": "code",
      "metadata": {
        "id": "nYiohXPSj5-W"
      },
      "source": [
        "auxv_verbs_df <- auxv_verbs %>%\n",
        "  as.data.frame(.)  %>%\n",
        "  dplyr::rename(\"verb\" = colnames(.)[1]) %>%\n",
        "  dplyr::group_by(verb) %>%\n",
        "  dplyr::summarise(freq = n()) %>%\n",
        "  dplyr::arrange(-freq) %>%\n",
        "  head(20)\n",
        "# inspect\n",
        "head(auxv_verbs_df)"
      ],
      "execution_count": null,
      "outputs": []
    },
    {
      "cell_type": "markdown",
      "metadata": {
        "id": "Ah1WNrifj5-X"
      },
      "source": [
        "We can again visualize the results. In this case, we create a bar plot (see the `geom_bar`).\n",
        "\n"
      ]
    },
    {
      "cell_type": "code",
      "metadata": {
        "id": "L-j-Pbmcj5-X"
      },
      "source": [
        "auxv_verbs_df %>%\n",
        "  ggplot(aes(x = reorder(verb, -freq), y = freq)) +\n",
        "  geom_bar(stat = \"identity\") +\n",
        "  theme_bw() +\n",
        "  labs(x = \"Verb\", y = \"Frequency\") +\n",
        "  theme(axis.text.x = element_text(angle = 90))"
      ],
      "execution_count": null,
      "outputs": []
    },
    {
      "cell_type": "markdown",
      "metadata": {
        "id": "AvvTPBtsj5-X"
      },
      "source": [
        "## Example 4: How many verbs do children use by age? \n",
        "\n",
        "Here we extract all lexical verbs and words uttered by children by year and then see if the rate of verbs changes over time.\n"
      ]
    },
    {
      "cell_type": "code",
      "metadata": {
        "id": "FdHdB7Eij5-X"
      },
      "source": [
        "nverbs <- childes %>%\n",
        "  dplyr::filter(speaker == \"CHI\") %>%\n",
        "  dplyr::mutate(nverbs = stringr::str_count(postag, \"^v\\\\|| v\\\\|\"),\n",
        "  age_years_targetchild = as.numeric(age_years_targetchild)) %>%\n",
        "  dplyr::group_by(age_years_targetchild) %>%\n",
        "  dplyr::summarise(words = sum(words),\n",
        "                verbs = sum(nverbs)) %>%\n",
        "  dplyr::mutate(verb.word.ratio = round(verbs/words, 3))\n",
        "# inspect data\n",
        "nverbs"
      ],
      "execution_count": null,
      "outputs": []
    },
    {
      "cell_type": "markdown",
      "metadata": {
        "id": "2mFCcPEbj5-Y"
      },
      "source": [
        "We can also visualize the results to show any changes over time. \n",
        "\n"
      ]
    },
    {
      "cell_type": "code",
      "metadata": {
        "id": "Qz7zK55Hj5-Y"
      },
      "source": [
        "nverbs %>%\n",
        "  ggplot(aes(x = age_years_targetchild, y = verb.word.ratio)) +\n",
        "  geom_line() +\n",
        "  coord_cartesian(ylim = c(0, 0.2)) +\n",
        "  theme_bw() +\n",
        "  labs(x = \"Age of target child\", y = \"Verb-Word Ratio\")"
      ],
      "execution_count": null,
      "outputs": []
    },
    {
      "cell_type": "markdown",
      "metadata": {
        "id": "s6FkOPxXj5-Y"
      },
      "source": [
        "***\n",
        "\n",
        "# Citation & Session Info \n",
        "\n",
        "Schweinberger, Martin. 2021. *Working with the Child Language Data Exchange System (CHILDES) using R: code book*. Tromsø: The Artic University of Norway. url: https://slcladal.github.io/mmws.html (Version `r format(Sys.time(), '%Y.%m.%d')`).\n"
      ]
    },
    {
      "cell_type": "code",
      "metadata": {
        "id": "QhBp_q4kj5-Y"
      },
      "source": [
        "@manual{schweinberger2021childescb,\n",
        "  author = {Schweinberger, Martin},\n",
        "  title = {Working with the Child Language Data Exchange System (CHILDES) using R},\n",
        "  note = {https://slcladal.github.io/mmws.html},\n",
        "  year = {2021},\n",
        "  organization = \"Arctic University of Norway, AcqVA Aurora Center},\n",
        "  address = {Tromsø},\n",
        "  edition = {2021.09.08}\n",
        "}"
      ],
      "execution_count": null,
      "outputs": []
    },
    {
      "cell_type": "markdown",
      "metadata": {
        "id": "hQKFjGJTj5-Z"
      },
      "source": [
        "\n"
      ]
    },
    {
      "cell_type": "code",
      "metadata": {
        "id": "3Y3Od1cpj5-Z"
      },
      "source": [
        "sessionInfo()"
      ],
      "execution_count": null,
      "outputs": []
    }
  ]
}
