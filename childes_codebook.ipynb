{
    "cells": [
        {
            "cell_type": "markdown",
            "metadata": {},
            "source": [
                "![aqcva](\"https://slcladal.github.io/images/acqva.jpg\")\n",
                "\n",
                "# Preparation{-}\n"
            ]
        },
        {
            "cell_type": "code",
            "execution_count": null,
            "metadata": {},
            "outputs": [],
            "source": [
                "# set options\n",
                "options(stringsAsFactors = F)          # no automatic data transformation\n",
                "options(\"scipen\" = 100, \"digits\" = 12) # suppress math annotation\n",
                "options(max.print=1000)                # show maximally 1000 elements in the output\n",
                "# install packages\n",
                "install.packages(c(\"tidyverse\", \"flextable\"))\n"
            ]
        },
        {
            "cell_type": "markdown",
            "metadata": {},
            "source": [
                "In a next step, we activate the packages that we have installed.\n",
                "\n"
            ]
        },
        {
            "cell_type": "code",
            "execution_count": null,
            "metadata": {},
            "outputs": [],
            "source": [
                "library(tidyverse)\n",
                "library(flextable)\n"
            ]
        },
        {
            "cell_type": "markdown",
            "metadata": {},
            "source": [
                "Before we continue, it is important to think about what we want to do!\n",
                "\n",
                "In this workshop, we want to load the CHILDES data and convert the data into a format that we can then use to extract information from it. Optimally, the data should have the following format once we have processed the data:\n"
            ]
        },
        {
            "cell_type": "code",
            "execution_count": null,
            "metadata": {},
            "outputs": [],
            "source": [
                "id <- data.frame(1:6)\n",
                "id <- id %>%\n",
                "  dplyr::rename(\"id\" = colnames(id)[1]) %>%\n",
                "  dplyr::mutate(file = c(\"aab\", \"aab\", \"aab\", \"aab\", \"aab\", \"aab\"),\n",
                "                childage = c(\"4;6\", \"4;6\", \"4;6\", \"4;6\", \"4;6\", \"4;6\"),\n",
                "                child = c(\"ben\", \"ben\", \"ben\", \"ben\", \"ben\", \"ben\"),\n",
                "                speaker = c(\"MOT\", \"MOT\", \"ben\", \"MOT\", \"ben\", \"MOT\"),\n",
                "                utterance = c(\"How are you ?\", \"Ben ?\", \"Okay\", \"Are you hungry ?\", \"No\", \"Sure ?\"),\n",
                "                tagged = c(\"How|WH are|BE you|PN ?|PC\", \"Ben|NNP ?|PC\", \"Okay|RB\", \"Are|BE you|PN hungry|JJ ?|PC\", \"No|NG\", \"Sure|RB ?|PC\"),\n",
                "                comment = c(\"\", \"\", \"\", \"\", \"shakes head\", \"\"))\n",
                "# inspect data\n",
                "flextable::flextable(id) %>%\n",
                "  flextable::autofit()\n"
            ]
        },
        {
            "cell_type": "markdown",
            "metadata": {},
            "source": [
                "So we want to have the data in a tabular format and in this table, each utterance is in a separate line and each line should also contain information about the speaker and the file.\n",
                "\n",
                "\n",
                "# Case studies\n",
                "\n",
                "Now that we have the data in a format that we can use, we can use this table to perform searches.\n",
                "\n",
                "In case the above processing has not worked for you, simply visit `https://github.com/AcqVALab/RCHILDES/` and download the file manually. If you store that file in your `data` folder, you can load it by executing the code chunk below.\n"
            ]
        },
        {
            "cell_type": "code",
            "execution_count": null,
            "metadata": {},
            "outputs": [],
            "source": [
                "childes <- base::readRDS(url(\"https://slcladal.github.io/data/childes.rda\", \"rb\"))\n",
                "# inspect data\n",
                "childes[1:3, 1:4]\n"
            ]
        },
        {
            "cell_type": "markdown",
            "metadata": {},
            "source": [
                "## Example 1: Extract uses of the word \"No\" by children {-}\n",
                "\n",
                "To extract all instances of a single word, in this example the word *no*, that are uttered by a specific interlocutor we filter by speaker and define that we only want rows where the speaker is equal to `CHI` (target child).\n"
            ]
        },
        {
            "cell_type": "code",
            "execution_count": null,
            "metadata": {},
            "outputs": [],
            "source": [
                "no <- childes %>%\n",
                "  dplyr::filter(speaker == \"CHI\") %>%\n",
                "  dplyr::filter(stringr::str_detect(utterance, \"\\\\b[Nn][Oo]\\\\b\"))\n"
            ]
        },
        {
            "cell_type": "markdown",
            "metadata": {},
            "source": [
                "\n",
                "\n"
            ]
        },
        {
            "cell_type": "code",
            "execution_count": null,
            "metadata": {},
            "outputs": [],
            "source": [
                "# inspect data\n",
                "flextable::flextable(head(no)) %>%\n",
                "  flextable::autofit()\n"
            ]
        },
        {
            "cell_type": "markdown",
            "metadata": {},
            "source": [
                "We summarize the results in a table. \n",
                "\n"
            ]
        },
        {
            "cell_type": "code",
            "execution_count": null,
            "metadata": {},
            "outputs": [],
            "source": [
                "no_no <- no %>%\n",
                "  dplyr::group_by(files, gender_targetchild, age_years_targetchild) %>%\n",
                "  dplyr::summarise(nos = nrow(.))\n",
                "head(no_no)\n"
            ]
        },
        {
            "cell_type": "markdown",
            "metadata": {},
            "source": [
                "We can also extract the number of words uttered by children to check if the use of *no* shows a relative increase or decrease over time.\n",
                "\n"
            ]
        },
        {
            "cell_type": "code",
            "execution_count": null,
            "metadata": {},
            "outputs": [],
            "source": [
                "no_words <- childes %>%\n",
                "  dplyr::filter(speaker == \"CHI\") %>%\n",
                "  dplyr::group_by(files, gender_targetchild, age_years_targetchild) %>%\n",
                "  dplyr::mutate(nos = stringr::str_detect(utterance, \"\\\\b[Nn][Oo]\\\\b\")) %>%\n",
                "  dplyr::summarise(nos = sum(nos),\n",
                "                   words = sum(words)) %>%\n",
                "  # add relative frequency\n",
                "  dplyr::mutate(freq = round(nos/words*1000, 3))\n",
                "# inspect data\n",
                "head(no_words)\n",
                "  \n"
            ]
        },
        {
            "cell_type": "markdown",
            "metadata": {},
            "source": [
                "We can also visualize the trends using the `ggplot` function . To learn how to visualize data in R see [this tutorial](https://slcladal.github.io/dviz.html).\n",
                "\n"
            ]
        },
        {
            "cell_type": "code",
            "execution_count": null,
            "metadata": {},
            "outputs": [],
            "source": [
                "no_words %>%\n",
                "  dplyr::mutate(age_years_targetchild = as.numeric(age_years_targetchild)) %>%\n",
                "  ggplot(aes(x = age_years_targetchild, y = freq)) +\n",
                "  geom_smooth() +\n",
                "  theme_bw() +\n",
                "  labs(x = \"Age of target child\", y = \"Relative frequency of NOs \\n (per 1,000 words)\") +\n",
                "  ggsave(here::here(\"images\", \"no_words.png\"), width = 6, height = 4, units = \"cm\")\n"
            ]
        },
        {
            "cell_type": "markdown",
            "metadata": {},
            "source": [
                "## Example 2: Extracting all questions by mothers {-}\n",
                "\n",
                "Here, we want to extract all questions uttered by mothers. We operationalize questions as utterances containing a question mark.\n"
            ]
        },
        {
            "cell_type": "code",
            "execution_count": null,
            "metadata": {},
            "outputs": [],
            "source": [
                "questions <- childes %>%\n",
                "  dplyr::filter(speaker == \"MOT\") %>%\n",
                "  dplyr::filter(stringr::str_detect(utterance, \"\\\\?\"))\n",
                "# inspect data\n",
                "head(questions)\n"
            ]
        },
        {
            "cell_type": "markdown",
            "metadata": {},
            "source": [
                "We could now check if the rate of questions changes over time.\n",
                "\n"
            ]
        },
        {
            "cell_type": "code",
            "execution_count": null,
            "metadata": {},
            "outputs": [],
            "source": [
                "qmot <- childes %>%\n",
                "  dplyr::filter(speaker == \"MOT\") %>%\n",
                "  dplyr::mutate(questions = ifelse(stringr::str_detect(utterance, \"\\\\?\") == T, 1,0),\n",
                "                utterances = 1) %>%\n",
                "  dplyr::group_by(age_years_targetchild) %>%\n",
                "  dplyr::summarise(utterances = sum(utterances),\n",
                "                questions = sum(questions),\n",
                "                percent = round(questions/utterances*100, 2))\n",
                "# inspect data\n",
                "head(qmot)\n"
            ]
        },
        {
            "cell_type": "markdown",
            "metadata": {},
            "source": "\n"
        },
        {
            "cell_type": "code",
            "execution_count": null,
            "metadata": {},
            "outputs": [],
            "source": [
                "qmot %>%\n",
                "  dplyr::mutate(age_years_targetchild = as.numeric(age_years_targetchild)) %>%\n",
                "  ggplot(aes(x = age_years_targetchild, y = percent)) +\n",
                "  geom_smooth() +\n",
                "  theme_bw() +\n",
                "  labs(x = \"Age of target child\", y = \"Percent \\n (questions)\")\n"
            ]
        },
        {
            "cell_type": "markdown",
            "metadata": {},
            "source": [
                "## Example 3: Extracting aux + part by mothers {-}\n",
                "\n",
                "Here we want to extract all occurrences of an auxiliary plus a participle (e.g. *is swimming*) produced by mothers.\n"
            ]
        },
        {
            "cell_type": "code",
            "execution_count": null,
            "metadata": {},
            "outputs": [],
            "source": [
                "auxv <- childes %>%\n",
                "  dplyr::filter(speaker == \"MOT\") %>%\n",
                "  dplyr::filter(stringr::str_detect(postag, \"aux\\\\|\\\\S{1,} part\\\\|\"))\n",
                "# inspect data\n",
                "head(auxv)\n"
            ]
        },
        {
            "cell_type": "markdown",
            "metadata": {},
            "source": [
                "We can now extract all the particle forms from the pos-tagged utterance\n",
                "\n"
            ]
        },
        {
            "cell_type": "code",
            "execution_count": null,
            "metadata": {},
            "outputs": [],
            "source": [
                "auxv_verbs <- auxv %>%\n",
                "  dplyr::mutate(participle = gsub(\".*part\\\\|(\\\\w{1,})-.*\", \"\\\\1\", postag)) %>%\n",
                "  dplyr::pull(participle)\n",
                "head(auxv_verbs)\n"
            ]
        },
        {
            "cell_type": "markdown",
            "metadata": {},
            "source": "\n"
        },
        {
            "cell_type": "code",
            "execution_count": null,
            "metadata": {},
            "outputs": [],
            "source": [
                "auxv_verbs_df <- auxv_verbs %>%\n",
                "  as.data.frame(.)  %>%\n",
                "  dplyr::rename(\"verb\" = colnames(.)[1]) %>%\n",
                "  dplyr::group_by(verb) %>%\n",
                "  dplyr::summarise(freq = n()) %>%\n",
                "  dplyr::arrange(-freq) %>%\n",
                "  head(20)\n",
                "# inspect\n",
                "head(auxv_verbs_df)\n"
            ]
        },
        {
            "cell_type": "markdown",
            "metadata": {},
            "source": [
                "We can again visualize the results. In this case, we create a bar plot (see the `geom_bar`).\n",
                "\n"
            ]
        },
        {
            "cell_type": "code",
            "execution_count": null,
            "metadata": {},
            "outputs": [],
            "source": [
                "auxv_verbs_df %>%\n",
                "  ggplot(aes(x = reorder(verb, -freq), y = freq)) +\n",
                "  geom_bar(stat = \"identity\") +\n",
                "  theme_bw() +\n",
                "  labs(x = \"Verb\", y = \"Frequency\") +\n",
                "  theme(axis.text.x = element_text(angle = 90))\n"
            ]
        },
        {
            "cell_type": "markdown",
            "metadata": {},
            "source": [
                "## Example 4: How many verbs do children use by age? {-}\n",
                "\n",
                "Here we extract all lexical verbs and words uttered by children by year and then see if the rate of verbs changes over time.\n"
            ]
        },
        {
            "cell_type": "code",
            "execution_count": null,
            "metadata": {},
            "outputs": [],
            "source": [
                "nverbs <- childes %>%\n",
                "  dplyr::filter(speaker == \"CHI\") %>%\n",
                "  dplyr::mutate(nverbs = stringr::str_count(postag, \"^v\\\\|| v\\\\|\"),\n",
                "  age_years_targetchild = as.numeric(age_years_targetchild)) %>%\n",
                "  dplyr::group_by(age_years_targetchild) %>%\n",
                "  dplyr::summarise(words = sum(words),\n",
                "                verbs = sum(nverbs)) %>%\n",
                "  dplyr::mutate(verb.word.ratio = round(verbs/words, 3))\n",
                "# inspect data\n",
                "nverbs\n"
            ]
        },
        {
            "cell_type": "markdown",
            "metadata": {},
            "source": [
                "We can also visualize the results to show any changes over time. \n",
                "\n"
            ]
        },
        {
            "cell_type": "code",
            "execution_count": null,
            "metadata": {},
            "outputs": [],
            "source": [
                "nverbs %>%\n",
                "  ggplot(aes(x = age_years_targetchild, y = verb.word.ratio)) +\n",
                "  geom_line() +\n",
                "  coord_cartesian(ylim = c(0, 0.2)) +\n",
                "  theme_bw() +\n",
                "  labs(x = \"Age of target child\", y = \"Verb-Word Ratio\")\n"
            ]
        },
        {
            "cell_type": "markdown",
            "metadata": {},
            "source": [
                "# Saving data to your computer{-}\n",
                "\n",
                "To save results on your computer, you can use the `write.table` function as shown below.\n"
            ]
        },
        {
            "cell_type": "code",
            "execution_count": null,
            "metadata": {},
            "outputs": [],
            "source": [
                "write.table(nverbs, here::here(\"tables\", \"nverbs.txt\"), sep = \"\\t\", row.names = F)\n",
                "\n"
            ]
        },
        {
            "cell_type": "markdown",
            "metadata": {},
            "source": [
                "***\n",
                "\n",
                "# Citation & Session Info {-}\n",
                "\n",
                "Schweinberger, Martin. `r format(Sys.time(), '%Y')`. *Working with the Child Language Data Exchange System (CHILDES) using R: code book*. Tromsø: The Artic University of Norway. url: https://slcladal.github.io/mmws.html (Version `r format(Sys.time(), '%Y.%m.%d')`).\n"
            ]
        },
        {
            "cell_type": "code",
            "execution_count": null,
            "metadata": {},
            "outputs": [],
            "source": [
                "@manual{schweinberger`r format(Sys.time(), '%Y')`mmws,\n",
                "  author = {Schweinberger, Martin},\n",
                "  title = {Working with the Child Language Data Exchange System (CHILDES) using R},\n",
                "  note = {https://slcladal.github.io/mmws.html},\n",
                "  year = {2021},\n",
                "  organization = \"Arctic University of Norway, AcqVA Aurora Center},\n",
                "  address = {Tromsø},\n",
                "  edition = {`r format(Sys.time(), '%Y.%m.%d')`}\n",
                "}\n"
            ]
        },
        {
            "cell_type": "markdown",
            "metadata": {},
            "source": "\n"
        },
        {
            "cell_type": "code",
            "execution_count": null,
            "metadata": {},
            "outputs": [],
            "source": [
                "sessionInfo()\n",
                "\n"
            ]
        },
        {
            "cell_type": "markdown",
            "metadata": {},
            "source": [
                "***\n",
                "\n",
                "[Back to top](#introduction)\n",
                "\n",
                "***\n"
            ]
        }
    ],
    "metadata": {
        "anaconda-cloud": "",
        "kernelspec": {
            "display_name": "R",
            "langauge": "R",
            "name": "ir"
        },
        "language_info": {
            "codemirror_mode": "r",
            "file_extension": ".r",
            "mimetype": "text/x-r-source",
            "name": "R",
            "pygments_lexer": "r",
            "version": "3.4.1"
        }
    },
    "nbformat": 4,
    "nbformat_minor": 1
}
