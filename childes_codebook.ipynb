{
    "cells": [
        {
            "cell_type": "markdown",
            "metadata": {},
            "source": [
                "![acqva](https://slcladal.github.io/images/acqva.jpg)\n",
                "\n",
                "\n",
                "\n",
                "# Preparation{-}\n"
            ]
        },
        {
            "cell_type": "code",
            "execution_count": null,
            "metadata": {},
            "outputs": [],
            "source": [
                "# set options\n",
                "options(stringsAsFactors = F)          # no automatic data transformation\n",
                "options(\"scipen\" = 100, \"digits\" = 12) # suppress math annotation\n",
                "options(max.print=1000)                # show maximally 1000 elements in the output\n",
                "# install packages\n",
                "install.packages(c(\"tidyverse\", \"flextable\"))\n",
                "# specify path to corpus\n",
                "corpuspath <- here::here(\"data\", \"HSLLD\")\n"
            ]
        },
        {
            "cell_type": "markdown",
            "metadata": {},
            "source": [
                "In a next step, we activate the packages that we have installed.\n",
                "\n"
            ]
        },
        {
            "cell_type": "code",
            "execution_count": null,
            "metadata": {},
            "outputs": [],
            "source": [
                "library(tidyverse)\n",
                "library(flextable)\n"
            ]
        },
        {
            "cell_type": "markdown",
            "metadata": {},
            "source": [
                "Before we continue, it is important to think about what we want to do!\n",
                "\n",
                "In this workshop, we want to load the CHILDES data and convert the data into a format that we can then use to extract information from it. Optimally, the data should have the following format once we have processed the data:\n"
            ]
        },
        {
            "cell_type": "code",
            "execution_count": null,
            "metadata": {},
            "outputs": [],
            "source": [
                "id <- data.frame(1:6)\n",
                "id <- id %>%\n",
                "  dplyr::rename(\"id\" = colnames(id)[1]) %>%\n",
                "  dplyr::mutate(file = c(\"aab\", \"aab\", \"aab\", \"aab\", \"aab\", \"aab\"),\n",
                "                childage = c(\"4;6\", \"4;6\", \"4;6\", \"4;6\", \"4;6\", \"4;6\"),\n",
                "                child = c(\"ben\", \"ben\", \"ben\", \"ben\", \"ben\", \"ben\"),\n",
                "                speaker = c(\"MOT\", \"MOT\", \"ben\", \"MOT\", \"ben\", \"MOT\"),\n",
                "                utterance = c(\"How are you ?\", \"Ben ?\", \"Okay\", \"Are you hungry ?\", \"No\", \"Sure ?\"),\n",
                "                tagged = c(\"How|WH are|BE you|PN ?|PC\", \"Ben|NNP ?|PC\", \"Okay|RB\", \"Are|BE you|PN hungry|JJ ?|PC\", \"No|NG\", \"Sure|RB ?|PC\"),\n",
                "                comment = c(\"\", \"\", \"\", \"\", \"shakes head\", \"\"))\n",
                "# inspect data\n",
                "flextable::flextable(id) %>%\n",
                "  flextable::autofit()\n"
            ]
        },
        {
            "cell_type": "markdown",
            "metadata": {},
            "source": [
                "So we want to have the data in a tabular format and in this table, each utterance is in a separate line and each line should also contain information about the speaker and the file.\n",
                "\n",
                "# Data processing\n",
                "\n",
                "We start the analysis by preparing the R session. This mean that we set options and that we install as well as load packages that we will need. In addition, we specify the path to the unzipped CHILDES data that we will use. \n",
                "\n",
                "In a first step, we create a list with the paths to the individual files. This tells the computer where to find the files it is supposed to load.\n"
            ]
        },
        {
            "cell_type": "code",
            "execution_count": null,
            "metadata": {},
            "outputs": [],
            "source": [
                "# list corpus files\n",
                "cha = list.files(path = corpuspath, \n",
                "                 pattern = \".cha$\", \n",
                "                 all.files = T,\n",
                "                 full.names = T, \n",
                "                 recursive = T, \n",
                "                 ignore.case = T)\n",
                "# use only first 6 files for testing\n",
                "#cha <- cha[1:6]\n",
                "# check the first 6 file paths\n",
                "head(cha)\n"
            ]
        },
        {
            "cell_type": "markdown",
            "metadata": {},
            "source": [
                "We now load the data and split it up into files. \n",
                "\n",
                "the `sapply` function loops over the elements in the `cha` object and performs specified actions on the (here, loading the content via the `scan` function, getting rid of white spaces and splitting the files when it finds the following sequences `*ABC1:` or `%ABC:`).\n"
            ]
        },
        {
            "cell_type": "code",
            "execution_count": null,
            "metadata": {},
            "outputs": [],
            "source": [
                "# create version of corpus fit for concordancing\n",
                "corpus <- sapply(cha, function(x) {\n",
                "  # load data\n",
                "  x <- scan(x, what = \"char\", sep = \"\\t\", quiet = T, quote = \"\", skipNul = T)\n",
                "  # clean data\n",
                "  x <- stringr::str_trim(x, side = \"both\") # remove superfluous white spaces at the edges of strings\n",
                "  x <- stringr::str_squish(x)              # remove superfluous white spaces within strings\n",
                "  x <- paste0(x, collapse = \" \")           # paste all utterances ina file together\n",
                "  # split files into indivisual utterances\n",
                "  x <- strsplit(gsub(\"([%|*][a-z|A-Z]{2,4}[0-9]{0,1}:)\", \"~~~\\\\1\", x), \"~~~\")\n",
                "})\n",
                "# inspect results\n",
                "str(corpus[1:3])\n"
            ]
        },
        {
            "cell_type": "markdown",
            "metadata": {},
            "source": [
                "We have now loaded the files into R, but the format is not yet structured in a wqy thatwe can use it - remember: we want the data to be in a tabular format.\n",
                "\n",
                "## Extract file information{-}\n",
                "\n",
                "Now, we extract information about the recording, e.g., the participants, the age of the child, the date of the recording etc. For this, we extract the first element of each file (because this first element contains all the relevant information bout the recording).\n"
            ]
        },
        {
            "cell_type": "code",
            "execution_count": null,
            "metadata": {},
            "outputs": [],
            "source": [
                "# extract file info for each file\n",
                "fileinfo <- sapply(corpus, function(x){ \n",
                "  # extract first element of each corpus file because this contains the file info\n",
                "  x <- x[1]\n",
                "  })\n",
                "#inspect\n",
                "fileinfo[1:3]\n"
            ]
        },
        {
            "cell_type": "markdown",
            "metadata": {},
            "source": [
                "Now, we have one element for each file that contains all the relevant information about the file, like when the recording took place, how old the target child was, how was present during the recording etc.\n",
                "\n",
                "## Extract file content{-}\n",
                "\n",
                "Now, we extract the raw content from which we will extract the speaker, the utterance, the pos-tagged utterance, and any comments.Here, we loop over the `corpus` object with the `sapply` function and we remove the first element in each list, then we paste everything else together and then, we split the whole conversation into utterances that start with a speaker id (e.g. `*MOT:`).\n",
                "\n",
                "  \n"
            ]
        },
        {
            "cell_type": "code",
            "execution_count": null,
            "metadata": {},
            "outputs": [],
            "source": [
                "content <- sapply(corpus, function(x){\n",
                "  x <- x[2:length(x)]\n",
                "  x <- paste0(x, collapse = \" \")\n",
                "  x <- stringr::str_split(stringr::str_replace_all(x, \"(\\\\*[A-Z])\", \"~~~\\\\1\"), \"~~~\")\n",
                "})\n",
                "# inspect data\n",
                "content[[1]][1:6]\n"
            ]
        },
        {
            "cell_type": "markdown",
            "metadata": {},
            "source": [
                "The data now consists of utterances but also the pos-tagged utterances and any comments. However, we use this form of the data to extract the clean utterances, the pos-tagged utterances and the comments and store them in different columns. \n",
                "\n",
                "\n",
                "## Extract information{-}\n",
                "\n",
                "Now, we extract how many elements (or utterances) there are in each file. \n"
            ]
        },
        {
            "cell_type": "code",
            "execution_count": null,
            "metadata": {},
            "outputs": [],
            "source": [
                "elements <- sapply(content, function(x){\n",
                "  x <- length(x)\n",
                "})\n",
                "# inspect\n",
                "head(elements)\n"
            ]
        },
        {
            "cell_type": "markdown",
            "metadata": {},
            "source": [
                "## Generate table{-}\n",
                "\n",
                "We use this information to generate a first table which holds the file information in one column and the raw file content in another.\n"
            ]
        },
        {
            "cell_type": "code",
            "execution_count": null,
            "metadata": {},
            "outputs": [],
            "source": [
                "files <- rep(names(elements), elements)\n",
                "fileinfo <- rep(fileinfo, elements)\n",
                "rawcontent <- as.vector(unlist(content))\n",
                "chitb <- data.frame(1:length(rawcontent),\n",
                "                    files,\n",
                "                    fileinfo,\n",
                "                    rawcontent)\n",
                "# inspect data\n",
                "flextable::flextable(head(chitb, 3)) %>%\n",
                "  flextable::autofit()\n"
            ]
        },
        {
            "cell_type": "markdown",
            "metadata": {},
            "source": [
                "# Process table{-}\n",
                "\n",
                "We can now use the information in the two columns to extract specific pieces of information from the data (and we store that info in a separate column). But first, we rename the first column and then create a clean file column. We do this by remiving everything before the symbol `/` and then we remove the sequence `.cha`.\n"
            ]
        },
        {
            "cell_type": "code",
            "execution_count": null,
            "metadata": {},
            "outputs": [],
            "source": [
                "childes <- chitb %>%\n",
                "  # rename id column\n",
                "  dplyr::rename(id = colnames(chitb)[1]) %>%\n",
                "  # clean file names\n",
                "  dplyr::mutate(files = stringr::str_remove_all(files, \".*/\"),\n",
                "                files = stringr::str_remove_all(files, \".cha\")) \n",
                "# inspect data\n",
                "flextable::flextable(head(childes, 3)) %>%\n",
                "  flextable::autofit()\n"
            ]
        },
        {
            "cell_type": "markdown",
            "metadata": {},
            "source": [
                "We now continue in the same manner (by remove what is before what interests us and what comes after) and thereby extract pieces of information that we store in new columns.\n",
                "\n",
                "Rename id column and cleaning file names.\n"
            ]
        },
        {
            "cell_type": "code",
            "execution_count": null,
            "metadata": {},
            "outputs": [],
            "source": [
                "childes <- chitb %>%\n",
                "  # rename id column\n",
                "  dplyr::rename(id = colnames(chitb)[1]) %>%\n",
                "  # clean file names\n",
                "  dplyr::mutate(files = gsub(\".*/(.*?).cha\", \"\\\\1\", files))\n"
            ]
        },
        {
            "cell_type": "markdown",
            "metadata": {},
            "source": [
                "Creating a speaker column.\n",
                "\n"
            ]
        },
        {
            "cell_type": "code",
            "execution_count": null,
            "metadata": {},
            "outputs": [],
            "source": [
                "childes <- childes %>%  \n",
                "  dplyr::mutate(speaker = stringr::str_remove_all(rawcontent, \":.*\"),\n",
                "                speaker = stringr::str_remove_all(speaker, \"\\\\W\"))\n"
            ]
        },
        {
            "cell_type": "markdown",
            "metadata": {},
            "source": [
                "Creating an utterance column.\n",
                "\n"
            ]
        },
        {
            "cell_type": "code",
            "execution_count": null,
            "metadata": {},
            "outputs": [],
            "source": [
                "childes <- childes %>%  \n",
                "  dplyr::mutate(utterance = stringr::str_remove_all(rawcontent, \"%mor:.*\"),\n",
                "                utterance = stringr::str_remove_all(utterance, \"%gpx:.*\"),\n",
                "                utterance = stringr::str_remove_all(utterance, \"%act:.*\"),\n",
                "                utterance = stringr::str_remove_all(utterance, \"%par:.*\"),\n",
                "                utterance = stringr::str_remove_all(utterance, \"%add:.*\"),\n",
                "                utterance = stringr::str_remove_all(utterance, \"\\\\*\\\\w{2,6}:\"),\n",
                "                utterance = stringr::str_squish(utterance))\n"
            ]
        },
        {
            "cell_type": "markdown",
            "metadata": {},
            "source": [
                "Creating a column with the pos-tagged utterances.\n",
                "\n"
            ]
        },
        {
            "cell_type": "code",
            "execution_count": null,
            "metadata": {},
            "outputs": [],
            "source": [
                "childes <- childes %>%  \n",
                "  dplyr::mutate(postag = stringr::str_remove_all(rawcontent, \".*%mor:\"),\n",
                "                postag = stringr::str_remove_all(postag, \"%.*\"),\n",
                "                postag = stringr::str_remove_all(postag, \"\\\\*\\\\w{2,6}:\"),\n",
                "                postag = stringr::str_squish(postag))\n"
            ]
        },
        {
            "cell_type": "markdown",
            "metadata": {},
            "source": [
                "Creating a  column with comments.\n",
                "\n"
            ]
        },
        {
            "cell_type": "code",
            "execution_count": null,
            "metadata": {},
            "outputs": [],
            "source": [
                "childes <- childes %>%  \n",
                "  dplyr::mutate(comment = stringr::str_remove_all(rawcontent, \".*%mor:\"),\n",
                "                comment = stringr::str_remove(comment, \".*?%\"),\n",
                "                comment = stringr::str_remove_all(comment, \".*|.*\"),\n",
                "                comment = stringr::str_squish(comment))\n"
            ]
        },
        {
            "cell_type": "markdown",
            "metadata": {},
            "source": [
                "Creating a  column with the participants that were present during the recording.\n",
                "\n"
            ]
        },
        {
            "cell_type": "code",
            "execution_count": null,
            "metadata": {},
            "outputs": [],
            "source": [
                "childes <- childes %>%  \n",
                "  dplyr::mutate(participants = gsub(\".*@Participants:(.*?)@.*\", \"\\\\1\", fileinfo))\n"
            ]
        },
        {
            "cell_type": "markdown",
            "metadata": {},
            "source": [
                "Creating a  column with the age of the target child.\n",
                "\n"
            ]
        },
        {
            "cell_type": "code",
            "execution_count": null,
            "metadata": {},
            "outputs": [],
            "source": [
                "childes <- childes %>%\n",
                "  dplyr::mutate(age_targetchild = gsub(\".*\\\\|([0-9]{1,3};[0-9]{1,3}\\\\.[0-9]{1,3})\\\\|.*\", \"\\\\1\", fileinfo)) \n"
            ]
        },
        {
            "cell_type": "markdown",
            "metadata": {},
            "source": [
                "Creating a  column with the age of the target child in years.\n",
                "\n"
            ]
        },
        {
            "cell_type": "code",
            "execution_count": null,
            "metadata": {},
            "outputs": [],
            "source": [
                "childes <- childes %>%\n",
                "  dplyr::mutate(age_years_targetchild = stringr::str_remove_all(age_targetchild, \";.*\")) \n"
            ]
        },
        {
            "cell_type": "markdown",
            "metadata": {},
            "source": [
                "Creating a  column with the gender of the target child.\n",
                "\n"
            ]
        },
        {
            "cell_type": "code",
            "execution_count": null,
            "metadata": {},
            "outputs": [],
            "source": [
                "childes <- childes %>%\n",
                "  dplyr::mutate(gender_targetchild = gsub(\".*\\\\|([female]{4,6})\\\\|.*\", \"\\\\1\", fileinfo))\n"
            ]
        },
        {
            "cell_type": "markdown",
            "metadata": {},
            "source": [
                "Creating columns with the date-of-birth of the target child, more comments, and the date of the recording.\n",
                "\n"
            ]
        },
        {
            "cell_type": "code",
            "execution_count": null,
            "metadata": {},
            "outputs": [],
            "source": [
                "childes <- childes %>%  \n",
                "  # create dob_targetchild column\n",
                "  dplyr::mutate(dob_targetchild = gsub(\".*@Birth of CHI:(.*?)@.*\",\"\\\\1\", fileinfo)) %>%\n",
                "  # create comment_file column\n",
                "  dplyr::mutate(comment_file = gsub(\".*@Comment: (.*?)@.*\", \"\\\\1\", fileinfo)) %>%\n",
                "  # create date column\n",
                "  dplyr::mutate(date = gsub(\".*@Date: (.*?)@.*\", \"\\\\1\", fileinfo))\n"
            ]
        },
        {
            "cell_type": "markdown",
            "metadata": {},
            "source": [
                "Creating columns with the location where the recording took place and the situation type of the recording.\n",
                "\n"
            ]
        },
        {
            "cell_type": "code",
            "execution_count": null,
            "metadata": {},
            "outputs": [],
            "source": [
                "childes <- childes %>%  \n",
                "  # create location column,\n",
                "  dplyr::mutate(location = gsub(\".*@Location: (.*?)@.*\", \"\\\\1\", fileinfo)) %>%\n",
                "  # create situation column\n",
                "  dplyr::mutate(situation = gsub(\".*@Situation: (.*?)@.*\", \"\\\\1\", fileinfo))\n"
            ]
        },
        {
            "cell_type": "markdown",
            "metadata": {},
            "source": [
                "Creating columns with the activity during the recording and the homevisit number.\n",
                "\n"
            ]
        },
        {
            "cell_type": "code",
            "execution_count": null,
            "metadata": {},
            "outputs": [],
            "source": [
                "childes <- childes %>%  \n",
                "  # create homevisit_activity column\n",
                "  dplyr::mutate(homevisit_activity = stringr::str_remove_all(situation, \";.*\")) %>%\n",
                "  # create activity column\n",
                "  dplyr::mutate(activity = gsub(\".*@Activities: (.*?)@.*\", \"\\\\1\", fileinfo)) %>%\n",
                "  # create homevisit column\n",
                "  dplyr::mutate(homevisit = stringr::str_sub(files, 4, 6))\n"
            ]
        },
        {
            "cell_type": "markdown",
            "metadata": {},
            "source": [
                "Creating a column with the number of words in each utterance.\n",
                "\n"
            ]
        },
        {
            "cell_type": "code",
            "execution_count": null,
            "metadata": {},
            "outputs": [],
            "source": [
                "childes <- childes %>%  \n",
                "  # create words column\n",
                "  dplyr::mutate(words = stringr::str_replace_all(utterance, \"\\\\W\", \" \"),\n",
                "                words = stringr::str_squish(words),\n",
                "                words = stringr::str_count(words, \"\\\\w+\"))\n"
            ]
        },
        {
            "cell_type": "markdown",
            "metadata": {},
            "source": [
                "Cleaning the data: removing rows without speakers, rows where the age of the target child was incotrrect, and removing superfluous columns.\n",
                "\n"
            ]
        },
        {
            "cell_type": "code",
            "execution_count": null,
            "metadata": {},
            "outputs": [],
            "source": [
                "childes <- childes %>%  \n",
                "  # remove rows without speakers (contain only metadata)\n",
                "  dplyr::filter(speaker != \"\") %>%\n",
                "  # remove rows with incorrect age of child\n",
                "  dplyr::filter(nchar(age_years_targetchild) < 5) %>%\n",
                "  # remove superfluous columns\n",
                "  dplyr::select(-fileinfo, -rawcontent, -situation)\n"
            ]
        },
        {
            "cell_type": "markdown",
            "metadata": {},
            "source": "\n"
        },
        {
            "cell_type": "code",
            "execution_count": null,
            "metadata": {},
            "outputs": [],
            "source": [
                "# inspect data\n",
                "flextable::flextable(head(childes)) %>%\n",
                "  flextable::autofit()\n"
            ]
        },
        {
            "cell_type": "markdown",
            "metadata": {},
            "source": [
                "Check the speakers.\n",
                "\n"
            ]
        },
        {
            "cell_type": "code",
            "execution_count": null,
            "metadata": {},
            "outputs": [],
            "source": [
                "table(childes$speaker)\n",
                "\n"
            ]
        },
        {
            "cell_type": "markdown",
            "metadata": {},
            "source": [
                "We can use the table of speakers to classify speakers into different groups (e.g. siblings (SIB), secondary (SCG) and primary caregivers (PCG), and everyone else. In addition, we add proper labels to the activities.\n",
                "\n"
            ]
        },
        {
            "cell_type": "code",
            "execution_count": null,
            "metadata": {},
            "outputs": [],
            "source": [
                "# define groups for siblings and peers.\n",
                "SIB <- c(\"BR1\", \"BR2\", \"BR3\", \"BRI\", \"BRO\", \"BRO1\", \"BRO2\", \"SI1\",\n",
                "         \"SI2\", \"SI3\", \"SIS\", \"SIS1\", \"SIS2\", \"SIS3\", \"CO2\", \"CO3\", \n",
                "         \"COS\", \"COU\", \"COU2\", \"COU3\", \"FRE\", \"FRI\", \"KID\", \"FR1\", \n",
                "         \"FRE\", \"FRI\")\n",
                "# define group for primary caregivers\n",
                "PCG <- c(\"MOT\", \"FAT\")\n",
                "# define group for secondary caregivers\n",
                "SCG <- c(\"ANT\", \"AUN\", \"GFA\", \"GMA\", \"GPA\", \"GRA\", \"GRM\", \"UNC\")\n",
                "# clean column names and add interlocutor column\n",
                "childes <- childes %>%\n",
                "  # create interlocutor\n",
                "  dplyr::mutate(interlocutor = dplyr::case_when(speaker %in% SIB ~ \"peer\",\n",
                "                                                speaker %in% PCG ~ \"primarycaregiver\",\n",
                "                                                speaker %in% SCG ~ \"secondarycaregiver\",\n",
                "                                                speaker == \"CHI\" ~ \"child\", \n",
                "                                                T ~ \"other\")) %>%\n",
                "  # code activity\n",
                "  dplyr::mutate(visit = substr(files, 6, 6)) %>%\n",
                "  dplyr::mutate(situation = substr(files, 4, 5),\n",
                "                situation =  str_replace_all(situation, \"br\", \"Book reading\"),\n",
                "                situation = str_replace_all(situation, \"er\", \"Elicited report\"),\n",
                "                situation = str_replace_all(situation, \"et\", \"Experimental task\"),\n",
                "                situation = str_replace_all(situation, \"lw\", \"Letter writing\"),\n",
                "                situation = str_replace_all(situation, \"md\", \"Mother defined situation\"),\n",
                "                situation = str_replace_all(situation, \"mt\", \"Meal time\"),\n",
                "                situation = str_replace_all(situation, \"re\", \"Reading\"),\n",
                "                situation = str_replace_all(situation, \"tp\", \"Toy play\"))\n",
                "# inspect data\n",
                "table(childes$interlocutor)\n"
            ]
        },
        {
            "cell_type": "markdown",
            "metadata": {},
            "source": [
                "# Saving the CHILDES table on your computer \n",
                "\n",
                "Now that we have the data in a neat format, we may want to store the data on our computer. To save this table on your computer, you can use the `write.table` function and the `here` function as shown below. The first argument that the `write.table` needs is the object that we want to save. Then it needs to now a path, i.e., where to store the data. Regarding this path, it makes sense to use the `here` function because the `here` function creates nice paths. The `sep` and `row.names` arguments tells R how to store the data.\n"
            ]
        },
        {
            "cell_type": "code",
            "execution_count": null,
            "metadata": {},
            "outputs": [],
            "source": [
                "base::saveRDS(childes, file = here::here(\"data\", \"childes.rda\"))\n",
                "\n"
            ]
        },
        {
            "cell_type": "markdown",
            "metadata": {},
            "source": [
                "# Case studies\n",
                "\n",
                "Now that we have the data in a format that we can use, we can use this table to perform searches.\n",
                "\n",
                "In case the above processing has not worked for you, simply visit `https://github.com/AcqVALab/RCHILDES/` and download the file manually. If you store that file in your `data` folder, you can load it by executing the code chunk below.\n"
            ]
        },
        {
            "cell_type": "code",
            "execution_count": null,
            "metadata": {},
            "outputs": [],
            "source": [
                "childes <- base::readRDS(here::here(\"data\", \"childes.rda\"))\n",
                "# inspect data\n",
                "childes[1:3, 1:4]\n"
            ]
        },
        {
            "cell_type": "markdown",
            "metadata": {},
            "source": [
                "## Example 1: Extract uses of the word \"No\" by children {-}\n",
                "\n",
                "To extract all instances of a single word, in this example the word *no*, that are uttered by a specific interlocutor we filter by speaker and define that we only want rows where the speaker is equal to `CHI` (target child).\n"
            ]
        },
        {
            "cell_type": "code",
            "execution_count": null,
            "metadata": {},
            "outputs": [],
            "source": [
                "no <- childes %>%\n",
                "  dplyr::filter(speaker == \"CHI\") %>%\n",
                "  dplyr::filter(stringr::str_detect(utterance, \"\\\\b[Nn][Oo]\\\\b\"))\n"
            ]
        },
        {
            "cell_type": "markdown",
            "metadata": {},
            "source": [
                "\n",
                "\n"
            ]
        },
        {
            "cell_type": "code",
            "execution_count": null,
            "metadata": {},
            "outputs": [],
            "source": [
                "# inspect data\n",
                "flextable::flextable(head(no)) %>%\n",
                "  flextable::autofit()\n"
            ]
        },
        {
            "cell_type": "markdown",
            "metadata": {},
            "source": [
                "We summarize the results in a table. \n",
                "\n"
            ]
        },
        {
            "cell_type": "code",
            "execution_count": null,
            "metadata": {},
            "outputs": [],
            "source": [
                "no_no <- no %>%\n",
                "  dplyr::group_by(files, gender_targetchild, age_years_targetchild) %>%\n",
                "  dplyr::summarise(nos = nrow(.))\n",
                "head(no_no)\n"
            ]
        },
        {
            "cell_type": "markdown",
            "metadata": {},
            "source": [
                "We can also extract the number of words uttered by children to check if the use of *no* shows a relative increase or decrease over time.\n",
                "\n"
            ]
        },
        {
            "cell_type": "code",
            "execution_count": null,
            "metadata": {},
            "outputs": [],
            "source": [
                "no_words <- childes %>%\n",
                "  dplyr::filter(speaker == \"CHI\") %>%\n",
                "  dplyr::group_by(files, gender_targetchild, age_years_targetchild) %>%\n",
                "  dplyr::mutate(nos = stringr::str_detect(utterance, \"\\\\b[Nn][Oo]\\\\b\")) %>%\n",
                "  dplyr::summarise(nos = sum(nos),\n",
                "                   words = sum(words)) %>%\n",
                "  # add relative frequency\n",
                "  dplyr::mutate(freq = round(nos/words*1000, 3))\n",
                "# inspect data\n",
                "head(no_words)\n",
                "  \n"
            ]
        },
        {
            "cell_type": "markdown",
            "metadata": {},
            "source": [
                "We can also visualize the trends using the `ggplot` function . To learn how to visualize data in R see [this tutorial](https://slcladal.github.io/dviz.html).\n",
                "\n"
            ]
        },
        {
            "cell_type": "code",
            "execution_count": null,
            "metadata": {},
            "outputs": [],
            "source": [
                "no_words %>%\n",
                "  dplyr::mutate(age_years_targetchild = as.numeric(age_years_targetchild)) %>%\n",
                "  ggplot(aes(x = age_years_targetchild, y = freq)) +\n",
                "  geom_smooth() +\n",
                "  theme_bw() +\n",
                "  labs(x = \"Age of target child\", y = \"Relative frequency of NOs \\n (per 1,000 words)\") +\n",
                "  ggsave(here::here(\"images\", \"no_words.png\"), width = 6, height = 4, units = \"cm\")\n"
            ]
        },
        {
            "cell_type": "markdown",
            "metadata": {},
            "source": [
                "## Example 2: Extracting all questions by mothers {-}\n",
                "\n",
                "Here, we want to extract all questions uttered by mothers. We operationalize questions as utterances containing a question mark.\n"
            ]
        },
        {
            "cell_type": "code",
            "execution_count": null,
            "metadata": {},
            "outputs": [],
            "source": [
                "questions <- childes %>%\n",
                "  dplyr::filter(speaker == \"MOT\") %>%\n",
                "  dplyr::filter(stringr::str_detect(utterance, \"\\\\?\"))\n",
                "# inspect data\n",
                "head(questions)\n"
            ]
        },
        {
            "cell_type": "markdown",
            "metadata": {},
            "source": [
                "We could now check if the rate of questions changes over time.\n",
                "\n"
            ]
        },
        {
            "cell_type": "code",
            "execution_count": null,
            "metadata": {},
            "outputs": [],
            "source": [
                "qmot <- childes %>%\n",
                "  dplyr::filter(speaker == \"MOT\") %>%\n",
                "  dplyr::mutate(questions = ifelse(stringr::str_detect(utterance, \"\\\\?\") == T, 1,0),\n",
                "                utterances = 1) %>%\n",
                "  dplyr::group_by(age_years_targetchild) %>%\n",
                "  dplyr::summarise(utterances = sum(utterances),\n",
                "                questions = sum(questions),\n",
                "                percent = round(questions/utterances*100, 2))\n",
                "# inspect data\n",
                "head(qmot)\n"
            ]
        },
        {
            "cell_type": "markdown",
            "metadata": {},
            "source": "\n"
        },
        {
            "cell_type": "code",
            "execution_count": null,
            "metadata": {},
            "outputs": [],
            "source": [
                "qmot %>%\n",
                "  dplyr::mutate(age_years_targetchild = as.numeric(age_years_targetchild)) %>%\n",
                "  ggplot(aes(x = age_years_targetchild, y = percent)) +\n",
                "  geom_smooth() +\n",
                "  theme_bw() +\n",
                "  labs(x = \"Age of target child\", y = \"Percent \\n (questions)\")\n"
            ]
        },
        {
            "cell_type": "markdown",
            "metadata": {},
            "source": [
                "## Example 3: Extracting aux + part by mothers {-}\n",
                "\n",
                "Here we want to extract all occurrences of an auxiliary plus a participle (e.g. *is swimming*) produced by mothers.\n"
            ]
        },
        {
            "cell_type": "code",
            "execution_count": null,
            "metadata": {},
            "outputs": [],
            "source": [
                "auxv <- childes %>%\n",
                "  dplyr::filter(speaker == \"MOT\") %>%\n",
                "  dplyr::filter(stringr::str_detect(postag, \"aux\\\\|\\\\S{1,} part\\\\|\"))\n",
                "# inspect data\n",
                "head(auxv)\n"
            ]
        },
        {
            "cell_type": "markdown",
            "metadata": {},
            "source": [
                "We can now extract all the particle forms from the pos-tagged utterance\n",
                "\n"
            ]
        },
        {
            "cell_type": "code",
            "execution_count": null,
            "metadata": {},
            "outputs": [],
            "source": [
                "auxv_verbs <- auxv %>%\n",
                "  dplyr::mutate(participle = gsub(\".*part\\\\|(\\\\w{1,})-.*\", \"\\\\1\", postag)) %>%\n",
                "  dplyr::pull(participle)\n",
                "head(auxv_verbs)\n"
            ]
        },
        {
            "cell_type": "markdown",
            "metadata": {},
            "source": "\n"
        },
        {
            "cell_type": "code",
            "execution_count": null,
            "metadata": {},
            "outputs": [],
            "source": [
                "auxv_verbs_df <- auxv_verbs %>%\n",
                "  as.data.frame(.)  %>%\n",
                "  dplyr::rename(\"verb\" = colnames(.)[1]) %>%\n",
                "  dplyr::group_by(verb) %>%\n",
                "  dplyr::summarise(freq = n()) %>%\n",
                "  dplyr::arrange(-freq) %>%\n",
                "  head(20)\n",
                "# inspect\n",
                "head(auxv_verbs_df)\n"
            ]
        },
        {
            "cell_type": "markdown",
            "metadata": {},
            "source": [
                "We can again visualize the results. In this case, we create a bar plot (see the `geom_bar`).\n",
                "\n"
            ]
        },
        {
            "cell_type": "code",
            "execution_count": null,
            "metadata": {},
            "outputs": [],
            "source": [
                "auxv_verbs_df %>%\n",
                "  ggplot(aes(x = reorder(verb, -freq), y = freq)) +\n",
                "  geom_bar(stat = \"identity\") +\n",
                "  theme_bw() +\n",
                "  labs(x = \"Verb\", y = \"Frequency\") +\n",
                "  theme(axis.text.x = element_text(angle = 90))\n"
            ]
        },
        {
            "cell_type": "markdown",
            "metadata": {},
            "source": [
                "## Example 4: How many verbs do children use by age? {-}\n",
                "\n",
                "Here we extract all lexical verbs and words uttered by children by year and then see if the rate of verbs changes over time.\n"
            ]
        },
        {
            "cell_type": "code",
            "execution_count": null,
            "metadata": {},
            "outputs": [],
            "source": [
                "nverbs <- childes %>%\n",
                "  dplyr::filter(speaker == \"CHI\") %>%\n",
                "  dplyr::mutate(nverbs = stringr::str_count(postag, \"^v\\\\|| v\\\\|\"),\n",
                "  age_years_targetchild = as.numeric(age_years_targetchild)) %>%\n",
                "  dplyr::group_by(age_years_targetchild) %>%\n",
                "  dplyr::summarise(words = sum(words),\n",
                "                verbs = sum(nverbs)) %>%\n",
                "  dplyr::mutate(verb.word.ratio = round(verbs/words, 3))\n",
                "# inspect data\n",
                "nverbs\n"
            ]
        },
        {
            "cell_type": "markdown",
            "metadata": {},
            "source": [
                "We can also visualize the results to show any changes over time. \n",
                "\n"
            ]
        },
        {
            "cell_type": "code",
            "execution_count": null,
            "metadata": {},
            "outputs": [],
            "source": [
                "nverbs %>%\n",
                "  ggplot(aes(x = age_years_targetchild, y = verb.word.ratio)) +\n",
                "  geom_line() +\n",
                "  coord_cartesian(ylim = c(0, 0.2)) +\n",
                "  theme_bw() +\n",
                "  labs(x = \"Age of target child\", y = \"Verb-Word Ratio\")\n"
            ]
        },
        {
            "cell_type": "markdown",
            "metadata": {},
            "source": [
                "# Saving data to your computer{-}\n",
                "\n",
                "To save results on your computer, you can use the `write.table` function as shown below.\n"
            ]
        },
        {
            "cell_type": "code",
            "execution_count": null,
            "metadata": {},
            "outputs": [],
            "source": [
                "write.table(nverbs, here::here(\"tables\", \"nverbs.txt\"), sep = \"\\t\", row.names = F)\n",
                "\n"
            ]
        },
        {
            "cell_type": "markdown",
            "metadata": {},
            "source": [
                "***\n",
                "\n",
                "# Citation & Session Info {-}\n",
                "\n",
                "Schweinberger, Martin. `r format(Sys.time(), '%Y')`. *Working with the Child Language Data Exchange System (CHILDES) using R: code book*. Tromsø: The Artic University of Norway. url: https://slcladal.github.io/mmws.html (Version `r format(Sys.time(), '%Y.%m.%d')`).\n"
            ]
        },
        {
            "cell_type": "code",
            "execution_count": null,
            "metadata": {},
            "outputs": [],
            "source": [
                "@manual{schweinberger`r format(Sys.time(), '%Y')`mmws,\n",
                "  author = {Schweinberger, Martin},\n",
                "  title = {Working with the Child Language Data Exchange System (CHILDES) using R},\n",
                "  note = {https://slcladal.github.io/mmws.html},\n",
                "  year = {2021},\n",
                "  organization = \"Arctic University of Norway, AcqVA Aurora Center},\n",
                "  address = {Tromsø},\n",
                "  edition = {`r format(Sys.time(), '%Y.%m.%d')`}\n",
                "}\n"
            ]
        },
        {
            "cell_type": "markdown",
            "metadata": {},
            "source": "\n"
        },
        {
            "cell_type": "code",
            "execution_count": null,
            "metadata": {},
            "outputs": [],
            "source": [
                "sessionInfo()\n",
                "\n"
            ]
        },
        {
            "cell_type": "markdown",
            "metadata": {},
            "source": [
                "***\n",
                "\n",
                "[Back to top](#introduction)\n",
                "\n",
                "***\n"
            ]
        }
    ],
    "metadata": {
        "anaconda-cloud": "",
        "kernelspec": {
            "display_name": "R",
            "langauge": "R",
            "name": "ir"
        },
        "language_info": {
            "codemirror_mode": "r",
            "file_extension": ".r",
            "mimetype": "text/x-r-source",
            "name": "R",
            "pygments_lexer": "r",
            "version": "3.4.1"
        }
    },
    "nbformat": 4,
    "nbformat_minor": 1
}
